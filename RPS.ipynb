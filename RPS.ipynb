{
 "cells": [
  {
   "cell_type": "code",
   "execution_count": 1,
   "metadata": {},
   "outputs": [],
   "source": [
    "import tensorflow as tf\n",
    "from keras.preprocessing.image import ImageDataGenerator\n",
    "from tensorflow.python.keras import layers, models\n",
    "import os\n"
   ]
  },
  {
   "cell_type": "code",
   "execution_count": 2,
   "metadata": {},
   "outputs": [
    {
     "name": "stdout",
     "output_type": "stream",
     "text": [
      "Found 1868 images belonging to 3 classes.\n",
      "Found 320 images belonging to 3 classes.\n"
     ]
    }
   ],
   "source": [
    "train_dir = 'O:/Rock-Paper-Scissors/train'\n",
    "test_dir = 'O:/Rock-Paper-Scissors/test'\n",
    "\n",
    "train_datagen = ImageDataGenerator(  rescale=1.0/255,\n",
    "    rotation_range=30,\n",
    "    width_shift_range=0.2,\n",
    "    height_shift_range=0.2,\n",
    "    shear_range=0.2,\n",
    "    zoom_range=0.2,\n",
    "    horizontal_flip=True,\n",
    "    fill_mode='nearest')\n",
    "\n",
    "test_datagen = ImageDataGenerator(rescale=1.0/255)\n",
    "\n",
    "train_generator = train_datagen.flow_from_directory(\n",
    "    train_dir,\n",
    "    target_size=(200, 300),\n",
    "    batch_size=32,\n",
    "    class_mode='categorical'\n",
    ")\n",
    "\n",
    "\n",
    "test_generator = test_datagen.flow_from_directory(\n",
    "    test_dir,\n",
    "    target_size=(200, 300),\n",
    "    batch_size=32,\n",
    "    class_mode='categorical'\n",
    ")\n",
    "\n"
   ]
  },
  {
   "cell_type": "code",
   "execution_count": 3,
   "metadata": {},
   "outputs": [],
   "source": [
    "model = models.Sequential([\n",
    "    layers.Conv2D(32, (3, 3), activation='relu', input_shape=(200, 300, 3)),\n",
    "    layers.MaxPooling2D((2, 2)),\n",
    "    layers.Conv2D(64, (3, 3), activation='relu'),\n",
    "    layers.MaxPooling2D((2, 2)),\n",
    "    layers.Conv2D(128, (3, 3), activation='relu'),\n",
    "    layers.MaxPooling2D((2, 2)),\n",
    "    layers.Flatten(),\n",
    "    layers.Dense(128, activation='relu'),\n",
    "    layers.Dense(3, activation='softmax')\n",
    "])"
   ]
  },
  {
   "cell_type": "code",
   "execution_count": 4,
   "metadata": {},
   "outputs": [],
   "source": [
    "model.compile(\n",
    "    optimizer='adam',\n",
    "    loss='categorical_crossentropy',\n",
    "    metrics=['accuracy']\n",
    ")"
   ]
  },
  {
   "cell_type": "code",
   "execution_count": 5,
   "metadata": {},
   "outputs": [
    {
     "name": "stdout",
     "output_type": "stream",
     "text": [
      "Epoch 1/10\n",
      "59/59 [==============================] - 33s 478ms/step - loss: 1.3377 - accuracy: 0.4208 - val_loss: 0.8924 - val_accuracy: 0.5562\n",
      "Epoch 2/10\n",
      "59/59 [==============================] - 16s 281ms/step - loss: 0.8929 - accuracy: 0.5969 - val_loss: 0.6869 - val_accuracy: 0.7250\n",
      "Epoch 3/10\n",
      "59/59 [==============================] - 16s 279ms/step - loss: 0.5194 - accuracy: 0.8030 - val_loss: 0.2327 - val_accuracy: 0.9187\n",
      "Epoch 4/10\n",
      "59/59 [==============================] - 17s 284ms/step - loss: 0.2888 - accuracy: 0.9020 - val_loss: 0.1304 - val_accuracy: 0.9563\n",
      "Epoch 5/10\n",
      "59/59 [==============================] - 16s 280ms/step - loss: 0.2302 - accuracy: 0.9315 - val_loss: 0.2333 - val_accuracy: 0.8938\n",
      "Epoch 6/10\n",
      "59/59 [==============================] - 16s 281ms/step - loss: 0.2371 - accuracy: 0.9186 - val_loss: 0.1029 - val_accuracy: 0.9594\n",
      "Epoch 7/10\n",
      "59/59 [==============================] - 16s 280ms/step - loss: 0.1870 - accuracy: 0.9411 - val_loss: 0.2500 - val_accuracy: 0.8875\n",
      "Epoch 8/10\n",
      "59/59 [==============================] - 16s 280ms/step - loss: 0.1981 - accuracy: 0.9347 - val_loss: 0.0509 - val_accuracy: 0.9906\n",
      "Epoch 9/10\n",
      "59/59 [==============================] - 16s 282ms/step - loss: 0.1600 - accuracy: 0.9497 - val_loss: 0.0248 - val_accuracy: 0.9937\n",
      "Epoch 10/10\n",
      "59/59 [==============================] - 16s 281ms/step - loss: 0.1814 - accuracy: 0.9384 - val_loss: 0.0816 - val_accuracy: 0.9688\n"
     ]
    }
   ],
   "source": [
    "history = model.fit(\n",
    "    train_generator,\n",
    "    steps_per_epoch=len(train_generator),\n",
    "    epochs=10,\n",
    "    validation_data=test_generator,\n",
    "    validation_steps=len(test_generator)\n",
    ")"
   ]
  },
  {
   "cell_type": "code",
   "execution_count": 7,
   "metadata": {},
   "outputs": [],
   "source": [
    "model.save('rock_paper_scissors_model.h5')"
   ]
  }
 ],
 "metadata": {
  "kernelspec": {
   "display_name": "Python 3",
   "language": "python",
   "name": "python3"
  },
  "language_info": {
   "codemirror_mode": {
    "name": "ipython",
    "version": 3
   },
   "file_extension": ".py",
   "mimetype": "text/x-python",
   "name": "python",
   "nbconvert_exporter": "python",
   "pygments_lexer": "ipython3",
   "version": "3.9.13"
  }
 },
 "nbformat": 4,
 "nbformat_minor": 2
}
